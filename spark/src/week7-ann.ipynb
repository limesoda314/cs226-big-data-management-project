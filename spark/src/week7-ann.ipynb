{
 "cells": [
  {
   "cell_type": "markdown",
   "metadata": {},
   "source": [
    "## CS226 Project\n",
    "\n",
    "### visualization \n",
    "\n",
    "Dataset can be downloaded from here: https://www.kaggle.com/datasets/sobhanmoosavi/us-accidents\n",
    "\n",
    "Spark setup: https://spark.apache.org/docs/latest/sql-getting-started.html"
   ]
  },
  {
   "cell_type": "code",
   "execution_count": 40,
   "metadata": {},
   "outputs": [],
   "source": [
    "# import necessary libraries\n",
    "import pandas as pd \n",
    "import numpy as np \n",
    "import matplotlib.pyplot as plt \n",
    "# create sparksession\n",
    "from pyspark.sql import SparkSession\n",
    "spark = SparkSession \\\n",
    "    .builder \\\n",
    "    .appName(\"CS226 Project\") \\\n",
    "    .getOrCreate()"
   ]
  },
  {
   "cell_type": "code",
   "execution_count": 41,
   "metadata": {},
   "outputs": [
    {
     "name": "stdout",
     "output_type": "stream",
     "text": [
      "70.9 ms ± 4.97 ms per loop (mean ± std. dev. of 7 runs, 10 loops each)\n"
     ]
    }
   ],
   "source": [
    "%%timeit\n",
    "spark_df = spark.read.csv(\"../data/US_Accidents_March23.csv\", header=True)"
   ]
  },
  {
   "cell_type": "code",
   "execution_count": 42,
   "metadata": {},
   "outputs": [
    {
     "data": {
      "text/plain": [
       "['ID',\n",
       " 'Source',\n",
       " 'Severity',\n",
       " 'Start_Time',\n",
       " 'End_Time',\n",
       " 'Start_Lat',\n",
       " 'Start_Lng',\n",
       " 'End_Lng',\n",
       " 'Distance(mi)',\n",
       " 'Description',\n",
       " 'Street',\n",
       " 'City',\n",
       " 'County',\n",
       " 'State',\n",
       " 'Zipcode',\n",
       " 'Country',\n",
       " 'Timezone',\n",
       " 'Airport_Code',\n",
       " 'Weather_Timestamp',\n",
       " 'Temperature(F)',\n",
       " 'Wind_Chill(F)',\n",
       " 'Humidity(%)',\n",
       " 'Pressure(in)',\n",
       " 'Visibility(mi)',\n",
       " 'Wind_Direction',\n",
       " 'Wind_Speed(mph)',\n",
       " 'Precipitation(in)',\n",
       " 'Weather_Condition',\n",
       " 'Amenity',\n",
       " 'Bump',\n",
       " 'Crossing',\n",
       " 'Give_Way',\n",
       " 'Junction',\n",
       " 'No_Exit',\n",
       " 'Railway',\n",
       " 'Roundabout',\n",
       " 'Station',\n",
       " 'Stop',\n",
       " 'Traffic_Calming',\n",
       " 'Traffic_Signal',\n",
       " 'Turning_Loop',\n",
       " 'Sunrise_Sunset',\n",
       " 'Civil_Twilight',\n",
       " 'Nautical_Twilight',\n",
       " 'Astronomical_Twilight']"
      ]
     },
     "execution_count": 42,
     "metadata": {},
     "output_type": "execute_result"
    }
   ],
   "source": [
    "spark_df.columns"
   ]
  },
  {
   "cell_type": "code",
   "execution_count": 43,
   "metadata": {},
   "outputs": [
    {
     "name": "stdout",
     "output_type": "stream",
     "text": [
      "+----+-------+--------+-------------------+-------------------+------------------+------------------+-------+------------+--------------------+--------------------+------------+----------+-----+----------+-------+----------+------------+-------------------+--------------+-------------+-----------+------------+--------------+--------------+---------------+-----------------+-----------------+-------+-----+--------+--------+--------+-------+-------+----------+-------+-----+---------------+--------------+------------+--------------+--------------+-----------------+---------------------+\n",
      "|  ID| Source|Severity|         Start_Time|           End_Time|         Start_Lat|         Start_Lng|End_Lng|Distance(mi)|         Description|              Street|        City|    County|State|   Zipcode|Country|  Timezone|Airport_Code|  Weather_Timestamp|Temperature(F)|Wind_Chill(F)|Humidity(%)|Pressure(in)|Visibility(mi)|Wind_Direction|Wind_Speed(mph)|Precipitation(in)|Weather_Condition|Amenity| Bump|Crossing|Give_Way|Junction|No_Exit|Railway|Roundabout|Station| Stop|Traffic_Calming|Traffic_Signal|Turning_Loop|Sunrise_Sunset|Civil_Twilight|Nautical_Twilight|Astronomical_Twilight|\n",
      "+----+-------+--------+-------------------+-------------------+------------------+------------------+-------+------------+--------------------+--------------------+------------+----------+-----+----------+-------+----------+------------+-------------------+--------------+-------------+-----------+------------+--------------+--------------+---------------+-----------------+-----------------+-------+-----+--------+--------+--------+-------+-------+----------+-------+-----+---------------+--------------+------------+--------------+--------------+-----------------+---------------------+\n",
      "| A-1|Source2|       3|2016-02-08 05:46:00|2016-02-08 11:00:00|         39.865147|        -84.058723|   NULL|        0.01|Right lane blocke...|              I-70 E|      Dayton|Montgomery|   OH|     45424|     US|US/Eastern|        KFFO|2016-02-08 05:58:00|          36.9|         NULL|       91.0|       29.68|          10.0|          Calm|           NULL|             0.02|       Light Rain|  False|False|   False|   False|   False|  False|  False|     False|  False|False|          False|         False|       False|         Night|         Night|            Night|                Night|\n",
      "| A-2|Source2|       2|2016-02-08 06:07:59|2016-02-08 06:37:59| 39.92805900000001|        -82.831184|   NULL|        0.01|Accident on Brice...|            Brice Rd|Reynoldsburg|  Franklin|   OH|43068-3402|     US|US/Eastern|        KCMH|2016-02-08 05:51:00|          37.9|         NULL|      100.0|       29.65|          10.0|          Calm|           NULL|              0.0|       Light Rain|  False|False|   False|   False|   False|  False|  False|     False|  False|False|          False|         False|       False|         Night|         Night|            Night|                  Day|\n",
      "| A-3|Source2|       2|2016-02-08 06:49:27|2016-02-08 07:19:27|         39.063148|        -84.032608|   NULL|        0.01|Accident on OH-32...|      State Route 32|Williamsburg|  Clermont|   OH|     45176|     US|US/Eastern|        KI69|2016-02-08 06:56:00|          36.0|         33.3|      100.0|       29.67|          10.0|            SW|            3.5|             NULL|         Overcast|  False|False|   False|   False|   False|  False|  False|     False|  False|False|          False|          True|       False|         Night|         Night|              Day|                  Day|\n",
      "| A-4|Source2|       3|2016-02-08 07:23:34|2016-02-08 07:53:34|         39.747753|-84.20558199999998|   NULL|        0.01|Accident on I-75 ...|              I-75 S|      Dayton|Montgomery|   OH|     45417|     US|US/Eastern|        KDAY|2016-02-08 07:38:00|          35.1|         31.0|       96.0|       29.64|           9.0|            SW|            4.6|             NULL|    Mostly Cloudy|  False|False|   False|   False|   False|  False|  False|     False|  False|False|          False|         False|       False|         Night|           Day|              Day|                  Day|\n",
      "| A-5|Source2|       2|2016-02-08 07:39:07|2016-02-08 08:09:07|         39.627781|        -84.188354|   NULL|        0.01|Accident on McEwe...|Miamisburg Center...|      Dayton|Montgomery|   OH|     45459|     US|US/Eastern|        KMGY|2016-02-08 07:53:00|          36.0|         33.3|       89.0|       29.65|           6.0|            SW|            3.5|             NULL|    Mostly Cloudy|  False|False|   False|   False|   False|  False|  False|     False|  False|False|          False|          True|       False|           Day|           Day|              Day|                  Day|\n",
      "| A-6|Source2|       3|2016-02-08 07:44:26|2016-02-08 08:14:26|40.100590000000004|-82.92519399999998|   NULL|        0.01|Accident on I-270...|      Westerville Rd| Westerville|  Franklin|   OH|     43081|     US|US/Eastern|        KCMH|2016-02-08 07:51:00|          37.9|         35.5|       97.0|       29.63|           7.0|           SSW|            3.5|             0.03|       Light Rain|  False|False|   False|   False|   False|  False|  False|     False|  False|False|          False|         False|       False|           Day|           Day|              Day|                  Day|\n",
      "| A-7|Source2|       2|2016-02-08 07:59:35|2016-02-08 08:29:35|         39.758274|-84.23050699999997|   NULL|         0.0|Accident on Oakri...|      N Woodward Ave|      Dayton|Montgomery|   OH|45417-2476|     US|US/Eastern|        KDAY|2016-02-08 07:56:00|          34.0|         31.0|      100.0|       29.66|           7.0|           WSW|            3.5|             NULL|         Overcast|  False|False|   False|   False|   False|  False|  False|     False|  False|False|          False|         False|       False|           Day|           Day|              Day|                  Day|\n",
      "| A-8|Source2|       3|2016-02-08 07:59:58|2016-02-08 08:29:58|         39.770382|        -84.194901|   NULL|        0.01|Accident on I-75 ...|           N Main St|      Dayton|Montgomery|   OH|     45405|     US|US/Eastern|        KDAY|2016-02-08 07:56:00|          34.0|         31.0|      100.0|       29.66|           7.0|           WSW|            3.5|             NULL|         Overcast|  False|False|   False|   False|   False|  False|  False|     False|  False|False|          False|         False|       False|           Day|           Day|              Day|                  Day|\n",
      "| A-9|Source2|       2|2016-02-08 08:00:40|2016-02-08 08:30:40|         39.778061|        -84.172005|   NULL|         0.0|Accident on Notre...|      Notre Dame Ave|      Dayton|Montgomery|   OH|45404-1923|     US|US/Eastern|        KFFO|2016-02-08 07:58:00|          33.3|         NULL|       99.0|       29.67|           5.0|            SW|            1.2|             NULL|    Mostly Cloudy|  False|False|   False|   False|   False|  False|  False|     False|  False|False|          False|         False|       False|           Day|           Day|              Day|                  Day|\n",
      "|A-10|Source2|       3|2016-02-08 08:10:04|2016-02-08 08:40:04|40.100590000000004|-82.92519399999998|   NULL|        0.01|Right hand should...|      Westerville Rd| Westerville|  Franklin|   OH|     43081|     US|US/Eastern|        KCMH|2016-02-08 08:28:00|          37.4|         33.8|      100.0|       29.62|           3.0|           SSW|            4.6|             0.02|       Light Rain|  False|False|   False|   False|   False|  False|  False|     False|  False|False|          False|         False|       False|           Day|           Day|              Day|                  Day|\n",
      "|A-11|Source2|       3|2016-02-08 08:14:42|2016-02-08 08:44:42|         39.952812|        -83.119293|   NULL|        0.01|Accident on I-270...|         Outerbelt S|    Columbus|  Franklin|   OH|     43228|     US|US/Eastern|        KTZR|2016-02-08 07:50:00|          35.6|         30.7|       93.0|       29.64|           5.0|           WNW|            5.8|             NULL|             Rain|  False|False|    True|   False|    True|  False|  False|     False|  False|False|          False|         False|       False|           Day|           Day|              Day|                  Day|\n",
      "|A-12|Source2|       3|2016-02-08 08:21:27|2016-02-08 08:51:27|         39.932709|         -82.83091|   NULL|        0.01|One lane blocked ...|              I-70 E|Reynoldsburg|  Franklin|   OH|     43068|     US|US/Eastern|        KCMH|2016-02-08 08:28:00|          37.4|         33.8|      100.0|       29.62|           3.0|           SSW|            4.6|             0.02|       Light Rain|  False|False|   False|   False|   False|  False|  False|     False|  False|False|          False|         False|       False|           Day|           Day|              Day|                  Day|\n",
      "|A-13|Source2|       2|2016-02-08 08:36:34|2016-02-08 09:06:34|         39.737633|-84.14993299999998|   NULL|         0.0|Accident on Rever...|      Watervliet Ave|      Dayton|Montgomery|   OH|45420-1863|     US|US/Eastern|        KFFO|2016-02-08 08:28:00|          33.8|         NULL|      100.0|       29.63|           3.0|            SW|            2.3|             NULL|         Overcast|  False|False|   False|   False|   False|  False|  False|     False|  False|False|          False|         False|       False|           Day|           Day|              Day|                  Day|\n",
      "|A-14|Source2|       2|2016-02-08 08:37:07|2016-02-08 09:07:07|          39.79076|        -84.241547|   NULL|        0.01|Accident on Salem...|           Salem Ave|      Dayton|Montgomery|   OH|45406-2708|     US|US/Eastern|        KDAY|2016-02-08 08:56:00|          36.0|         31.1|       89.0|       29.65|          10.0|            NW|            5.8|             NULL|    Mostly Cloudy|  False|False|   False|   False|   False|  False|  False|     False|  False|False|          False|          True|       False|           Day|           Day|              Day|                  Day|\n",
      "|A-15|Source2|       2|2016-02-08 08:39:43|2016-02-08 09:09:43|         39.972038|        -82.913521|   NULL|        0.01|Accident on OH-16...|          E Broad St|    Columbus|  Franklin|   OH|43213-1006|     US|US/Eastern|        KCMH|2016-02-08 08:28:00|          37.4|         33.8|      100.0|       29.62|           3.0|           SSW|            4.6|             0.02|       Light Rain|  False|False|   False|   False|   False|  False|  False|     False|  False|False|          False|          True|       False|           Day|           Day|              Day|                  Day|\n",
      "|A-16|Source2|       2|2016-02-08 08:43:20|2016-02-08 09:13:20|         39.745888|         -84.17041|   NULL|        0.01|Accident on Wayne...|         Glencoe Ave|      Dayton|Montgomery|   OH|45410-1721|     US|US/Eastern|        KFFO|2016-02-08 08:28:00|          33.8|         NULL|      100.0|       29.63|           3.0|            SW|            2.3|             NULL|         Overcast|  False|False|   False|   False|   False|  False|  False|     False|  False|False|          False|         False|       False|           Day|           Day|              Day|                  Day|\n",
      "|A-17|Source2|       2|2016-02-08 08:53:17|2016-02-08 09:23:17|         39.748329|        -84.224007|   NULL|        0.01|Accident on James...|S James H McGee Blvd|      Dayton|Montgomery|   OH|     45402|     US|US/Eastern|        KFFO|2016-02-08 08:58:00|          35.6|         NULL|       99.0|       29.65|           7.0|           WSW|            2.3|             NULL|    Mostly Cloudy|  False|False|   False|   False|   False|  False|  False|     False|  False|False|          False|         False|       False|           Day|           Day|              Day|                  Day|\n",
      "|A-18|Source2|       2|2016-02-08 09:24:37|2016-02-08 09:54:37|         39.752174|        -84.239952|   NULL|         0.0|Accident on Delph...|         Delphos Ave|      Dayton|Montgomery|   OH|45417-1727|     US|US/Eastern|        KDAY|2016-02-08 08:56:00|          36.0|         31.1|       89.0|       29.65|          10.0|            NW|            5.8|             NULL|    Mostly Cloudy|  False|False|   False|   False|   False|  False|  False|     False|  False|False|          False|         False|       False|           Day|           Day|              Day|                  Day|\n",
      "|A-19|Source2|       2|2016-02-08 09:25:17|2016-02-08 09:55:17|         39.740669|        -84.184135|   NULL|        0.01|Accident on Stewa...|          Rubicon St|      Dayton|Montgomery|   OH|45409-2659|     US|US/Eastern|        KFFO|2016-02-08 09:38:00|          37.4|         32.1|       93.0|       29.63|          10.0|           WSW|            6.9|             NULL|         Overcast|  False|False|    True|   False|   False|  False|  False|     False|  False|False|          False|          True|       False|           Day|           Day|              Day|                  Day|\n",
      "|A-20|Source2|       2|2016-02-08 09:35:35|2016-02-08 10:05:35|         39.790703|        -84.244461|   NULL|        0.01|Accident on Hillc...|     W Hillcrest Ave|      Dayton|Montgomery|   OH|45406-2640|     US|US/Eastern|        KDAY|2016-02-08 09:56:00|          36.0|         30.3|       89.0|       29.65|          10.0|          West|            6.9|             NULL|    Mostly Cloudy|  False|False|   False|   False|   False|  False|  False|     False|  False|False|          False|         False|       False|           Day|           Day|              Day|                  Day|\n",
      "+----+-------+--------+-------------------+-------------------+------------------+------------------+-------+------------+--------------------+--------------------+------------+----------+-----+----------+-------+----------+------------+-------------------+--------------+-------------+-----------+------------+--------------+--------------+---------------+-----------------+-----------------+-------+-----+--------+--------+--------+-------+-------+----------+-------+-----+---------------+--------------+------------+--------------+--------------+-----------------+---------------------+\n",
      "only showing top 20 rows\n",
      "\n"
     ]
    }
   ],
   "source": [
    "spark_df.show()"
   ]
  },
  {
   "cell_type": "code",
   "execution_count": 44,
   "metadata": {},
   "outputs": [],
   "source": [
    "spark_df = spark_df.drop(spark_df.columns[7])\n",
    "spark_df = spark_df.drop(spark_df.columns[8])"
   ]
  },
  {
   "cell_type": "code",
   "execution_count": 45,
   "metadata": {},
   "outputs": [
    {
     "name": "stdout",
     "output_type": "stream",
     "text": [
      "+----+-------+--------+-------------------+-------------------+------------------+------------------+------------+--------------------+------------+----------+-----+----------+-------+----------+------------+-------------------+--------------+-------------+-----------+------------+--------------+--------------+---------------+-----------------+-----------------+-------+-----+--------+--------+--------+-------+-------+----------+-------+-----+---------------+--------------+------------+--------------+--------------+-----------------+---------------------+\n",
      "|  ID| Source|Severity|         Start_Time|           End_Time|         Start_Lat|         Start_Lng|Distance(mi)|              Street|        City|    County|State|   Zipcode|Country|  Timezone|Airport_Code|  Weather_Timestamp|Temperature(F)|Wind_Chill(F)|Humidity(%)|Pressure(in)|Visibility(mi)|Wind_Direction|Wind_Speed(mph)|Precipitation(in)|Weather_Condition|Amenity| Bump|Crossing|Give_Way|Junction|No_Exit|Railway|Roundabout|Station| Stop|Traffic_Calming|Traffic_Signal|Turning_Loop|Sunrise_Sunset|Civil_Twilight|Nautical_Twilight|Astronomical_Twilight|\n",
      "+----+-------+--------+-------------------+-------------------+------------------+------------------+------------+--------------------+------------+----------+-----+----------+-------+----------+------------+-------------------+--------------+-------------+-----------+------------+--------------+--------------+---------------+-----------------+-----------------+-------+-----+--------+--------+--------+-------+-------+----------+-------+-----+---------------+--------------+------------+--------------+--------------+-----------------+---------------------+\n",
      "| A-1|Source2|       3|2016-02-08 05:46:00|2016-02-08 11:00:00|         39.865147|        -84.058723|        0.01|              I-70 E|      Dayton|Montgomery|   OH|     45424|     US|US/Eastern|        KFFO|2016-02-08 05:58:00|          36.9|         NULL|       91.0|       29.68|          10.0|          Calm|           NULL|             0.02|       Light Rain|  False|False|   False|   False|   False|  False|  False|     False|  False|False|          False|         False|       False|         Night|         Night|            Night|                Night|\n",
      "| A-2|Source2|       2|2016-02-08 06:07:59|2016-02-08 06:37:59| 39.92805900000001|        -82.831184|        0.01|            Brice Rd|Reynoldsburg|  Franklin|   OH|43068-3402|     US|US/Eastern|        KCMH|2016-02-08 05:51:00|          37.9|         NULL|      100.0|       29.65|          10.0|          Calm|           NULL|              0.0|       Light Rain|  False|False|   False|   False|   False|  False|  False|     False|  False|False|          False|         False|       False|         Night|         Night|            Night|                  Day|\n",
      "| A-3|Source2|       2|2016-02-08 06:49:27|2016-02-08 07:19:27|         39.063148|        -84.032608|        0.01|      State Route 32|Williamsburg|  Clermont|   OH|     45176|     US|US/Eastern|        KI69|2016-02-08 06:56:00|          36.0|         33.3|      100.0|       29.67|          10.0|            SW|            3.5|             NULL|         Overcast|  False|False|   False|   False|   False|  False|  False|     False|  False|False|          False|          True|       False|         Night|         Night|              Day|                  Day|\n",
      "| A-4|Source2|       3|2016-02-08 07:23:34|2016-02-08 07:53:34|         39.747753|-84.20558199999998|        0.01|              I-75 S|      Dayton|Montgomery|   OH|     45417|     US|US/Eastern|        KDAY|2016-02-08 07:38:00|          35.1|         31.0|       96.0|       29.64|           9.0|            SW|            4.6|             NULL|    Mostly Cloudy|  False|False|   False|   False|   False|  False|  False|     False|  False|False|          False|         False|       False|         Night|           Day|              Day|                  Day|\n",
      "| A-5|Source2|       2|2016-02-08 07:39:07|2016-02-08 08:09:07|         39.627781|        -84.188354|        0.01|Miamisburg Center...|      Dayton|Montgomery|   OH|     45459|     US|US/Eastern|        KMGY|2016-02-08 07:53:00|          36.0|         33.3|       89.0|       29.65|           6.0|            SW|            3.5|             NULL|    Mostly Cloudy|  False|False|   False|   False|   False|  False|  False|     False|  False|False|          False|          True|       False|           Day|           Day|              Day|                  Day|\n",
      "| A-6|Source2|       3|2016-02-08 07:44:26|2016-02-08 08:14:26|40.100590000000004|-82.92519399999998|        0.01|      Westerville Rd| Westerville|  Franklin|   OH|     43081|     US|US/Eastern|        KCMH|2016-02-08 07:51:00|          37.9|         35.5|       97.0|       29.63|           7.0|           SSW|            3.5|             0.03|       Light Rain|  False|False|   False|   False|   False|  False|  False|     False|  False|False|          False|         False|       False|           Day|           Day|              Day|                  Day|\n",
      "| A-7|Source2|       2|2016-02-08 07:59:35|2016-02-08 08:29:35|         39.758274|-84.23050699999997|         0.0|      N Woodward Ave|      Dayton|Montgomery|   OH|45417-2476|     US|US/Eastern|        KDAY|2016-02-08 07:56:00|          34.0|         31.0|      100.0|       29.66|           7.0|           WSW|            3.5|             NULL|         Overcast|  False|False|   False|   False|   False|  False|  False|     False|  False|False|          False|         False|       False|           Day|           Day|              Day|                  Day|\n",
      "| A-8|Source2|       3|2016-02-08 07:59:58|2016-02-08 08:29:58|         39.770382|        -84.194901|        0.01|           N Main St|      Dayton|Montgomery|   OH|     45405|     US|US/Eastern|        KDAY|2016-02-08 07:56:00|          34.0|         31.0|      100.0|       29.66|           7.0|           WSW|            3.5|             NULL|         Overcast|  False|False|   False|   False|   False|  False|  False|     False|  False|False|          False|         False|       False|           Day|           Day|              Day|                  Day|\n",
      "| A-9|Source2|       2|2016-02-08 08:00:40|2016-02-08 08:30:40|         39.778061|        -84.172005|         0.0|      Notre Dame Ave|      Dayton|Montgomery|   OH|45404-1923|     US|US/Eastern|        KFFO|2016-02-08 07:58:00|          33.3|         NULL|       99.0|       29.67|           5.0|            SW|            1.2|             NULL|    Mostly Cloudy|  False|False|   False|   False|   False|  False|  False|     False|  False|False|          False|         False|       False|           Day|           Day|              Day|                  Day|\n",
      "|A-10|Source2|       3|2016-02-08 08:10:04|2016-02-08 08:40:04|40.100590000000004|-82.92519399999998|        0.01|      Westerville Rd| Westerville|  Franklin|   OH|     43081|     US|US/Eastern|        KCMH|2016-02-08 08:28:00|          37.4|         33.8|      100.0|       29.62|           3.0|           SSW|            4.6|             0.02|       Light Rain|  False|False|   False|   False|   False|  False|  False|     False|  False|False|          False|         False|       False|           Day|           Day|              Day|                  Day|\n",
      "|A-11|Source2|       3|2016-02-08 08:14:42|2016-02-08 08:44:42|         39.952812|        -83.119293|        0.01|         Outerbelt S|    Columbus|  Franklin|   OH|     43228|     US|US/Eastern|        KTZR|2016-02-08 07:50:00|          35.6|         30.7|       93.0|       29.64|           5.0|           WNW|            5.8|             NULL|             Rain|  False|False|    True|   False|    True|  False|  False|     False|  False|False|          False|         False|       False|           Day|           Day|              Day|                  Day|\n",
      "|A-12|Source2|       3|2016-02-08 08:21:27|2016-02-08 08:51:27|         39.932709|         -82.83091|        0.01|              I-70 E|Reynoldsburg|  Franklin|   OH|     43068|     US|US/Eastern|        KCMH|2016-02-08 08:28:00|          37.4|         33.8|      100.0|       29.62|           3.0|           SSW|            4.6|             0.02|       Light Rain|  False|False|   False|   False|   False|  False|  False|     False|  False|False|          False|         False|       False|           Day|           Day|              Day|                  Day|\n",
      "|A-13|Source2|       2|2016-02-08 08:36:34|2016-02-08 09:06:34|         39.737633|-84.14993299999998|         0.0|      Watervliet Ave|      Dayton|Montgomery|   OH|45420-1863|     US|US/Eastern|        KFFO|2016-02-08 08:28:00|          33.8|         NULL|      100.0|       29.63|           3.0|            SW|            2.3|             NULL|         Overcast|  False|False|   False|   False|   False|  False|  False|     False|  False|False|          False|         False|       False|           Day|           Day|              Day|                  Day|\n",
      "|A-14|Source2|       2|2016-02-08 08:37:07|2016-02-08 09:07:07|          39.79076|        -84.241547|        0.01|           Salem Ave|      Dayton|Montgomery|   OH|45406-2708|     US|US/Eastern|        KDAY|2016-02-08 08:56:00|          36.0|         31.1|       89.0|       29.65|          10.0|            NW|            5.8|             NULL|    Mostly Cloudy|  False|False|   False|   False|   False|  False|  False|     False|  False|False|          False|          True|       False|           Day|           Day|              Day|                  Day|\n",
      "|A-15|Source2|       2|2016-02-08 08:39:43|2016-02-08 09:09:43|         39.972038|        -82.913521|        0.01|          E Broad St|    Columbus|  Franklin|   OH|43213-1006|     US|US/Eastern|        KCMH|2016-02-08 08:28:00|          37.4|         33.8|      100.0|       29.62|           3.0|           SSW|            4.6|             0.02|       Light Rain|  False|False|   False|   False|   False|  False|  False|     False|  False|False|          False|          True|       False|           Day|           Day|              Day|                  Day|\n",
      "|A-16|Source2|       2|2016-02-08 08:43:20|2016-02-08 09:13:20|         39.745888|         -84.17041|        0.01|         Glencoe Ave|      Dayton|Montgomery|   OH|45410-1721|     US|US/Eastern|        KFFO|2016-02-08 08:28:00|          33.8|         NULL|      100.0|       29.63|           3.0|            SW|            2.3|             NULL|         Overcast|  False|False|   False|   False|   False|  False|  False|     False|  False|False|          False|         False|       False|           Day|           Day|              Day|                  Day|\n",
      "|A-17|Source2|       2|2016-02-08 08:53:17|2016-02-08 09:23:17|         39.748329|        -84.224007|        0.01|S James H McGee Blvd|      Dayton|Montgomery|   OH|     45402|     US|US/Eastern|        KFFO|2016-02-08 08:58:00|          35.6|         NULL|       99.0|       29.65|           7.0|           WSW|            2.3|             NULL|    Mostly Cloudy|  False|False|   False|   False|   False|  False|  False|     False|  False|False|          False|         False|       False|           Day|           Day|              Day|                  Day|\n",
      "|A-18|Source2|       2|2016-02-08 09:24:37|2016-02-08 09:54:37|         39.752174|        -84.239952|         0.0|         Delphos Ave|      Dayton|Montgomery|   OH|45417-1727|     US|US/Eastern|        KDAY|2016-02-08 08:56:00|          36.0|         31.1|       89.0|       29.65|          10.0|            NW|            5.8|             NULL|    Mostly Cloudy|  False|False|   False|   False|   False|  False|  False|     False|  False|False|          False|         False|       False|           Day|           Day|              Day|                  Day|\n",
      "|A-19|Source2|       2|2016-02-08 09:25:17|2016-02-08 09:55:17|         39.740669|        -84.184135|        0.01|          Rubicon St|      Dayton|Montgomery|   OH|45409-2659|     US|US/Eastern|        KFFO|2016-02-08 09:38:00|          37.4|         32.1|       93.0|       29.63|          10.0|           WSW|            6.9|             NULL|         Overcast|  False|False|    True|   False|   False|  False|  False|     False|  False|False|          False|          True|       False|           Day|           Day|              Day|                  Day|\n",
      "|A-20|Source2|       2|2016-02-08 09:35:35|2016-02-08 10:05:35|         39.790703|        -84.244461|        0.01|     W Hillcrest Ave|      Dayton|Montgomery|   OH|45406-2640|     US|US/Eastern|        KDAY|2016-02-08 09:56:00|          36.0|         30.3|       89.0|       29.65|          10.0|          West|            6.9|             NULL|    Mostly Cloudy|  False|False|   False|   False|   False|  False|  False|     False|  False|False|          False|         False|       False|           Day|           Day|              Day|                  Day|\n",
      "+----+-------+--------+-------------------+-------------------+------------------+------------------+------------+--------------------+------------+----------+-----+----------+-------+----------+------------+-------------------+--------------+-------------+-----------+------------+--------------+--------------+---------------+-----------------+-----------------+-------+-----+--------+--------+--------+-------+-------+----------+-------+-----+---------------+--------------+------------+--------------+--------------+-----------------+---------------------+\n",
      "only showing top 20 rows\n",
      "\n"
     ]
    }
   ],
   "source": [
    "# Register the DataFrame as a SQL temporary view\n",
    "spark_df.createOrReplaceTempView(\"US_Accidents\")\n",
    "\n",
    "sqlDF = spark.sql(\"SELECT * FROM US_Accidents\")\n",
    "sqlDF.show()"
   ]
  }
 ],
 "metadata": {
  "kernelspec": {
   "display_name": "Python 3 (ipykernel)",
   "language": "python",
   "name": "python3"
  },
  "language_info": {
   "codemirror_mode": {
    "name": "ipython",
    "version": 3
   },
   "file_extension": ".py",
   "mimetype": "text/x-python",
   "name": "python",
   "nbconvert_exporter": "python",
   "pygments_lexer": "ipython3",
   "version": "3.11.6"
  }
 },
 "nbformat": 4,
 "nbformat_minor": 2
}
